{
  "cells": [
    {
      "attachments": {},
      "cell_type": "markdown",
      "metadata": {
        "colab_type": "text",
        "id": "view-in-github"
      },
      "source": [
        "<a href=\"https://colab.research.google.com/github/sourceoftruthdata/sot-colab-public/blob/main/Public_Application_Youtube_on_Colab.ipynb\" target=\"_parent\"><img src=\"https://colab.research.google.com/assets/colab-badge.svg\" alt=\"Open In Colab\"/></a>"
      ]
    },
    {
      "attachments": {},
      "cell_type": "markdown",
      "metadata": {
        "id": "or0BIDCL4y5A"
      },
      "source": [
        "# Source of Truth Data YouTube Video Download\n",
        "\n",
        "This is an applied AI notebook built by Source of Truth Data Labs.  The primary purpose of the Notebook is to demonstrate the ability to download any YouTube video. Please contact if you have any questions/comments/suggestions!  The Colab notebooks are designed to run in a free instance of Google Colab.\n",
        "\n",
        "\n",
        "1. Download YouTube video\n",
        "2. Mount and store on GDrive\n"
      ]
    },
    {
      "attachments": {},
      "cell_type": "markdown",
      "metadata": {
        "id": "wOHfOZaeIHUE"
      },
      "source": [
        "# Import packages\n"
      ]
    },
    {
      "cell_type": "code",
      "execution_count": 1,
      "metadata": {
        "colab": {
          "base_uri": "https://localhost:8080/"
        },
        "id": "29Np77mtD3Xa",
        "outputId": "38baa6eb-dd44-43b0-c4a7-0554accbd1d9"
      },
      "outputs": [
        {
          "name": "stdout",
          "output_type": "stream",
          "text": [
            "Looking in indexes: https://pypi.org/simple, https://us-python.pkg.dev/colab-wheels/public/simple/\n",
            "Collecting pytube\n",
            "  Downloading pytube-15.0.0-py3-none-any.whl (57 kB)\n",
            "\u001b[2K     \u001b[90m━━━━━━━━━━━━━━━━━━━━━━━━━━━━━━━━━━━━━━━━\u001b[0m \u001b[32m57.6/57.6 kB\u001b[0m \u001b[31m4.8 MB/s\u001b[0m eta \u001b[36m0:00:00\u001b[0m\n",
            "\u001b[?25hInstalling collected packages: pytube\n",
            "Successfully installed pytube-15.0.0\n"
          ]
        }
      ],
      "source": [
        "# Install pytube\n",
        "\n",
        "!pip install pytube --upgrade\n"
      ]
    },
    {
      "cell_type": "code",
      "execution_count": 2,
      "metadata": {
        "id": "jcnW7N6SIL0W"
      },
      "outputs": [],
      "source": [
        "# Import packages\n",
        "\n",
        "from IPython.display import YouTubeVideo\n",
        "from pytube import YouTube\n",
        "from google.colab import drive\n",
        "import requests\n",
        "import shutil\n",
        "import os\n"
      ]
    },
    {
      "attachments": {},
      "cell_type": "markdown",
      "metadata": {
        "id": "m48MiYpdj4UL"
      },
      "source": [
        "# Watch YouTube in Colab"
      ]
    },
    {
      "cell_type": "code",
      "execution_count": 15,
      "metadata": {
        "colab": {
          "base_uri": "https://localhost:8080/",
          "height": 339
        },
        "id": "xivnUoP-jAb9",
        "outputId": "fb1ec41d-78a0-4cfa-a7b5-25dc1aeb671b"
      },
      "outputs": [
        {
          "name": "stdout",
          "output_type": "stream",
          "text": [
            "Enter the YouTube video ID: nzCpAOaVBiA\n"
          ]
        },
        {
          "data": {
            "image/jpeg": "[encoded data removed]",
            "text/html": [
              "\n",
              "        <iframe\n",
              "            width=\"400\"\n",
              "            height=\"300\"\n",
              "            src=\"https://www.youtube.com/embed/nzCpAOaVBiA\"\n",
              "            frameborder=\"0\"\n",
              "            allowfullscreen\n",
              "            \n",
              "        ></iframe>\n",
              "        "
            ],
            "text/plain": [
              "<IPython.lib.display.YouTubeVideo at 0x7fd4addb2440>"
            ]
          },
          "execution_count": 15,
          "metadata": {},
          "output_type": "execute_result"
        }
      ],
      "source": [
        "# Input the Video ID by copy-pasting the ID from YT\n",
        "\n",
        "video_id = input(\"Enter the YouTube video ID: \")\n",
        "YouTubeVideo(video_id)\n"
      ]
    },
    {
      "attachments": {},
      "cell_type": "markdown",
      "metadata": {
        "id": "-z-NuLM5aTAM"
      },
      "source": [
        "# 1. Download YouTube video to Colab environment\n",
        "\n",
        "Colab will Download the YouTube video to your Colab environment"
      ]
    },
    {
      "cell_type": "code",
      "execution_count": 26,
      "metadata": {
        "colab": {
          "base_uri": "https://localhost:8080/"
        },
        "id": "Fovot4qMOPQ-",
        "outputId": "fd64ac6d-0b24-437f-e726-52ce23a79e81"
      },
      "outputs": [
        {
          "name": "stdout",
          "output_type": "stream",
          "text": [
            "Video downloaded to Colab successfully!\n"
          ]
        }
      ],
      "source": [
        "# YouTube video URL or ID\n",
        "video_url = 'https://www.youtube.com/watch?v={0}'.format(video_id)\n",
        "\n",
        "# Create a YouTube object\n",
        "yt = YouTube(video_url)\n",
        "\n",
        "# Get the highest resolution stream\n",
        "stream = yt.streams.get_highest_resolution()\n",
        "\n",
        "# Define the output path for the downloaded video\n",
        "output_path = '/content/youtube_downloads'\n",
        "\n",
        "# Download the video\n",
        "stream.download(output_path)\n",
        "\n",
        "print('Video downloaded to Colab successfully!')"
      ]
    },
    {
      "cell_type": "code",
      "execution_count": 27,
      "metadata": {
        "colab": {
          "base_uri": "https://localhost:8080/"
        },
        "id": "kh24dREX0zVE",
        "outputId": "24d4dd16-71c4-4be4-abe8-a3de7aaa67b0"
      },
      "outputs": [
        {
          "name": "stdout",
          "output_type": "stream",
          "text": [
            "Officer Earl Running Green Screen HD\n"
          ]
        }
      ],
      "source": [
        "# The video title\n",
        "\n",
        "print(stream.title)"
      ]
    },
    {
      "cell_type": "code",
      "execution_count": 28,
      "metadata": {
        "colab": {
          "base_uri": "https://localhost:8080/"
        },
        "id": "9sX5rmt-r67n",
        "outputId": "7289b2fc-6edb-468c-d8d1-d04fe4f4cb62"
      },
      "outputs": [
        {
          "name": "stdout",
          "output_type": "stream",
          "text": [
            "'Officer Earl Running Green Screen HD.mp4'\n"
          ]
        }
      ],
      "source": [
        "# shoe file in Google Colab directory\n",
        "\n",
        "!ls ./youtube_downloads"
      ]
    },
    {
      "attachments": {},
      "cell_type": "markdown",
      "metadata": {
        "id": "GEZ-1kErphKo"
      },
      "source": [
        "# 2. Mount and store on GDrive\n",
        "Colab will Download the YouTube video to your Colab environment"
      ]
    },
    {
      "cell_type": "code",
      "execution_count": 29,
      "metadata": {
        "colab": {
          "base_uri": "https://localhost:8080/"
        },
        "id": "yQQeI8cBPyuK",
        "outputId": "6b5ba0ea-e692-430e-8552-90c293ef82ba"
      },
      "outputs": [
        {
          "name": "stdout",
          "output_type": "stream",
          "text": [
            "Drive already mounted at /content/drive; to attempt to forcibly remount, call drive.mount(\"/content/drive\", force_remount=True).\n",
            "Folder downloaded to Google Drive successfully!\n"
          ]
        }
      ],
      "source": [
        "# mount GDrive\n",
        "drive.mount('/content/drive')\n",
        "\n",
        "# Specify the source folder path\n",
        "source_folder = '/content/youtube_downloads'\n",
        "\n",
        "# Specify the destination folder path in Google Drive\n",
        "destination_folder = '/content/drive/MyDrive/youtube_downloads'\n",
        "\n",
        "# gather all files\n",
        "allfiles = os.listdir(source_folder)\n",
        "\n",
        "# iterate on all files to move them to destination folder\n",
        "for f in allfiles:\n",
        "    src_path = os.path.join(source_folder, f)\n",
        "    dst_path = os.path.join(destination_folder, f)\n",
        "    shutil.move(src_path, dst_path)\n",
        "\n",
        "print(\"Folder downloaded to Google Drive successfully!\")"
      ]
    },
    {
      "cell_type": "code",
      "execution_count": 19,
      "metadata": {
        "id": "fIxFNQLj3gW-"
      },
      "outputs": [],
      "source": [
        "# unmount G Drive\n",
        "\n",
        "drive.flush_and_unmount()"
      ]
    }
  ],
  "metadata": {
    "colab": {
      "authorship_tag": "ABX9TyNQfutrXEcVAlfFyh0fc1bq",
      "include_colab_link": true,
      "provenance": [],
      "toc_visible": true
    },
    "kernelspec": {
      "display_name": "Python 3",
      "name": "python3"
    }
  },
  "nbformat": 4,
  "nbformat_minor": 0
}
